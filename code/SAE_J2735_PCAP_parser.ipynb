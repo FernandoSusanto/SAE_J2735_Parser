{
  "nbformat": 4,
  "nbformat_minor": 0,
  "metadata": {
    "colab": {
      "provenance": []
    },
    "kernelspec": {
      "name": "python3",
      "display_name": "Python 3"
    },
    "language_info": {
      "name": "python"
    }
  },
  "cells": [
    {
      "cell_type": "code",
      "source": [
        "import json\n",
        "\n",
        "with open('oa_driving_test_pcap_20240827.json', 'r') as f:\n",
        "    pcap = json.load(f)\n",
        "\n",
        "\n",
        "#list variables for the core data and partII data\n",
        "coreData_list =[]\n",
        "PartII_list = []\n",
        "\n",
        "#merged data of core data aand part II data\n",
        "BSM_data_list = []\n",
        "\n",
        "#access data inside json file and retrieve the BSM data\n",
        "for data in pcap:\n",
        "  #access the Basic Safety Message when there is a wsmp value in the dictionary\n",
        "  if 'wsmp' in data['_source']['layers']:\n",
        "    Wave_short_message = data['_source']['layers'][\"wsmp\"][\"Wave Short Message\"]\n",
        "    content_tree = Wave_short_message[\"ieee1609dot2.Ieee1609Dot2Data_element\"][\"ieee1609dot2.content_tree\"]\n",
        "    signedData = content_tree[\"ieee1609dot2.signedData_element\"]\n",
        "    tbsData = signedData[\"ieee1609dot2.tbsData_element\"]\n",
        "    payload = tbsData[\"ieee1609dot2.payload_element\"]\n",
        "    data_element = payload[\"ieee1609dot2.data_element\"]\n",
        "    content_tree_1 = data_element[\"ieee1609dot2.content_tree\"]\n",
        "    j2735 = content_tree_1[\"j2735\"]\n",
        "    MessageFrame = j2735[\"j2735.MessageFrame_element\"]\n",
        "    value_element = MessageFrame[\"j2735.value_element\"]\n",
        "    basicsafetymessage_element = value_element[\"j2735.BasicSafetyMessage_element\"]\n",
        "\n",
        "    #open core data sequence\n",
        "    coreData_element_value = basicsafetymessage_element[\"j2735.coreData_element\"]\n",
        "    coreData_element = {'Core Data': coreData_element_value}\n",
        "    coreData_list.append(coreData_element)\n",
        "\n",
        "    #open partII sequence\n",
        "    partII = basicsafetymessage_element[\"j2735.partII_tree\"][\"Item 0\"][\"j2735.PartIIcontent_element\"]['j2735.partII_Value_element']\n",
        "    partII_safety_extension_value = partII[\"j2735.VehicleSafetyExtensions_element\"]\n",
        "    partII_safety_extension = {'vehicleSafetyExt': partII_safety_extension_value}\n",
        "    partII_value = {'Part II':partII_safety_extension}\n",
        "    PartII_list.append(partII_value)\n",
        "\n",
        "    #merge both dictionaries into one\n",
        "    BSM_merge = {**coreData_element, **partII_value}\n",
        "    BSM_data_list.append(BSM_merge)\n",
        "\n",
        "#write a new json file to store the merged dictionary\n",
        "with open('BSM_list.json', 'w') as f:\n",
        "   json.dump(BSM_data_list, f, indent=2)\n",
        "\n",
        "#first iteration of the level in the dictionary test\n",
        "BSM_units = BSM_data_list[0]\n",
        "\n",
        "#reccursive formula to display all the key value of the merged file\n",
        "def get_all_key_values(dictionary, level=1):\n",
        "    for key, value in dictionary.items():\n",
        "        if isinstance(value, dict):\n",
        "            print('   ' * (level - 1) + f'[{level}] {key}') #if the dictionary still contains dictionary print key only\n",
        "            get_all_key_values(value, level + 1) #reccursion\n",
        "        else:\n",
        "            print('   ' * (level - 1) + f'[{level}] {key} : {value}') #if the dictionary contains no more dictionary, print key and value\n",
        "\n",
        "#for all iteration in the json file\n",
        "for data in BSM_data_list:\n",
        "  get_all_key_values(data)\n"
      ],
      "metadata": {
        "id": "KSrGZAx_IxsD"
      },
      "execution_count": null,
      "outputs": []
    }
  ]
}